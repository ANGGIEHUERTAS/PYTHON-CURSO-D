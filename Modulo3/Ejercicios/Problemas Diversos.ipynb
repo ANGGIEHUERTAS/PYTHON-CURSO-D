{
 "cells": [
  {
   "cell_type": "markdown",
   "metadata": {},
   "source": [
    "# PROBLEMAS DIVERSOS"
   ]
  },
  {
   "cell_type": "markdown",
   "metadata": {},
   "source": [
    "<h3>1.</h3>\n",
    "Realizar una función que permita la carga de n alumnos. Por cada alumno se deberá preguntar el nombre completo y permitir el ingreso de 3 notas. Las notas deben estar comprendidas entre 0 y 10. Devolver el listado de alumnos."
   ]
  },
  {
   "cell_type": "code",
   "execution_count": null,
   "metadata": {},
   "outputs": [],
   "source": [
    "alumnos=[]\n",
    "num=int(input(\"Ingrese el número de alumnos \"))"
   ]
  },
  {
   "cell_type": "code",
   "execution_count": null,
   "metadata": {},
   "outputs": [],
   "source": [
    "listado_alumnos=[]\n",
    "for i in range(num):\n",
    "    nomb=input(\"Ingrese el nombre completo del alumno: \")\n",
    "    nota1=int(input(\"Ingrese la nota 1 del alumno \"))\n",
    "    nota2=int(input(\"Ingrese la nota 2 del alumno \"))\n",
    "    nota3=int(input(\"Ingrese la nota 3 del alumno \"))\n",
    "    alumnos={'nombre':nomb,'notas':[nota1,nota2,nota3]}\n",
    "    listado_alumnos.append(alumnos)"
   ]
  },
  {
   "cell_type": "code",
   "execution_count": 3,
   "metadata": {},
   "outputs": [],
   "source": [
    "import re #Librería que utilizaré para realizar una búsqueda en el ejercicio 4\n",
    "\n",
    "listado_alumnos=[]\n",
    "\n",
    "class Alumno:\n",
    "    #La clase alumno solo tendrá el atributo num que indicará la cantidad de alumnos que se cargarán\n",
    "    def __init__(self, num):\n",
    "        self.num = num\n",
    "    \n",
    "    # 1. Función para cargar alumnos en una lista de acuerdo a la cantidad de alumnos establecido como valor en el constructor\n",
    "    def cargaralumnos(self, listado_alumnos):\n",
    "        notas = []\n",
    "        for i in range(self.num):\n",
    "            nombre=input(f\"Ingrese el nombre completo del alumno {i+1}: \")\n",
    "            for n in range(3):\n",
    "                while True:\n",
    "                    try:\n",
    "                        nota = float(input(f\"Ingrese la nota {n+1} del alumno: \"))\n",
    "                        if nota >= 0 and nota <= 10:\n",
    "                            notas.append(nota)\n",
    "                            break\n",
    "                        else:\n",
    "                            print(\"La nota debe estar comprendida entre 0 y 10\")\n",
    "                    except:\n",
    "                        print(\"Ingrese un número valido\")\n",
    "            alumno = {'nombre' : nombre, 'notas' : [notas[0], notas[1], notas[2]]}\n",
    "            notas.clear()\n",
    "            listado_alumnos.append(alumno)\n",
    "         \n",
    "    # 2. Función para contar cuántos alumnos están aprobados y desaprobados. Adicionalmente, almaceno el promedio de notas\n",
    "    #    y el estado del alumno en el curso, el cual puede ser aprobado o desaprobado\n",
    "    def evaluar(self, listado_alumnos):\n",
    "        aprobados = 0\n",
    "        desaprobados = 0\n",
    "        for alumno in listado_alumnos:\n",
    "            promedio = 0\n",
    "            for notas in alumno['notas']:\n",
    "                promedio = promedio + notas\n",
    "            promedio = promedio/3\n",
    "            alumno['promedio'] = promedio\n",
    "            if promedio >= 4:\n",
    "                alumno['estado'] = 'Aprobado'\n",
    "                aprobados = aprobados + 1\n",
    "            else:\n",
    "                alumno['estado'] = 'Desaprobado'\n",
    "                desaprobados = desaprobados + 1\n",
    "        print(f\"La cantidad de alumnos aprobados es de {aprobados}\")\n",
    "        print(f\"La cantidad de alumnos desaprobados es de {desaprobados}\")\n",
    "        \n",
    "    # 3. Función para mostrar el promedio total del curso\n",
    "    def promedio_curso(self, listado_alumnos):\n",
    "        promedio = 0\n",
    "        for alumno in listado_alumnos:\n",
    "            for notas in alumno['notas']:\n",
    "                promedio = promedio + notas\n",
    "        promedio = promedio / (3 * self.num)\n",
    "        print(f\"El promedio total del curso es de: {promedio}\")\n",
    "        \n",
    "    # 4. Función para definir quién es el alumno con el promedio más alto y más bajo\n",
    "    def promedio_alto_bajo (self, listado_alumnos):\n",
    "        alto = 0\n",
    "        bajo = 10\n",
    "        alumno_alto = ''\n",
    "        alumno_bajo = ''\n",
    "        \n",
    "        for alumno in listado_alumnos:\n",
    "            promedio = 0\n",
    "            for notas in alumno['notas']:\n",
    "                promedio = promedio + notas\n",
    "            promedio = promedio/3\n",
    "            \n",
    "            if promedio > alto:\n",
    "                alto = promedio\n",
    "                alumno_alto = alumno['nombre']\n",
    "            if promedio < bajo:\n",
    "                bajo = promedio\n",
    "                alumno_bajo = alumno['nombre']\n",
    "                \n",
    "        print(f\"El alumno con el promedio más alto es: {alumno_alto}\")\n",
    "        print(f\"El alumno con el promedio más bajo es: {alumno_bajo}\")\n",
    "    \n",
    "    # 5. Buscar datos de alumnos por nombre parcial o completo\n",
    "    def buscar(self, listado_alumnos, nombre):\n",
    "        for alumno in listado_alumnos:\n",
    "            if re.search(nombre, alumno['nombre']):\n",
    "                print(f\"Nombre: {alumno['nombre']}\")\n",
    "                i = 1\n",
    "                for nota in alumno['notas']:\n",
    "                    print(f\"    nota {i}: {nota}\")\n",
    "                    i = i + 1\n",
    "                print(f\"    Promedio: {alumno['promedio']}\")\n",
    "                print(f\"    Estado: {alumno['estado']}\")"
   ]
  },
  {
   "cell_type": "code",
   "execution_count": 4,
   "metadata": {},
   "outputs": [
    {
     "name": "stdin",
     "output_type": "stream",
     "text": [
      "Ingrese el número de alumnos:  2\n"
     ]
    }
   ],
   "source": [
    "#Se solicita la cantidad de alumnos\n",
    "while True:\n",
    "    try:\n",
    "        num= int(input(\"Ingrese el número de alumnos: \"))\n",
    "        if num <= 0:\n",
    "            print(\"Por favor, ingrese un número mayor a 0\")\n",
    "        else:\n",
    "            alumno = Alumno(num)\n",
    "            break\n",
    "    except:\n",
    "        print(\"Por favor, ingrese un número válido de alumnos\")"
   ]
  },
  {
   "cell_type": "code",
   "execution_count": null,
   "metadata": {},
   "outputs": [],
   "source": [
    "alumno.cargaralumnos(listado_alumnos)"
   ]
  },
  {
   "cell_type": "code",
   "execution_count": null,
   "metadata": {},
   "outputs": [],
   "source": [
    "listado_alumnos"
   ]
  },
  {
   "cell_type": "code",
   "execution_count": null,
   "metadata": {},
   "outputs": [],
   "source": []
  },
  {
   "cell_type": "code",
   "execution_count": null,
   "metadata": {},
   "outputs": [],
   "source": []
  },
  {
   "cell_type": "markdown",
   "metadata": {},
   "source": [
    "### 2.\n",
    "Definir una función que dado un listado de alumnos evalúe cuántos aprobaron y cuántos desaprobaron, teniendo en cuenta que se aprueba con 4. La nota será el promedio de las 3 notas para cada alumno."
   ]
  },
  {
   "cell_type": "code",
   "execution_count": null,
   "metadata": {},
   "outputs": [],
   "source": [
    "alumno.evaluar(listado_alumnos)"
   ]
  },
  {
   "cell_type": "code",
   "execution_count": null,
   "metadata": {},
   "outputs": [],
   "source": []
  },
  {
   "cell_type": "markdown",
   "metadata": {},
   "source": [
    "### 3.\n",
    "Informar el promedio de nota del curso total."
   ]
  },
  {
   "cell_type": "code",
   "execution_count": null,
   "metadata": {},
   "outputs": [],
   "source": [
    "alumno.promedio_curso(listado_alumnos)"
   ]
  },
  {
   "cell_type": "code",
   "execution_count": null,
   "metadata": {},
   "outputs": [],
   "source": []
  },
  {
   "cell_type": "markdown",
   "metadata": {},
   "source": [
    "### 4.\n",
    "Realizar una función que indique quién tuvo el promedio más alto y quién tuvo la nota promedio más baja."
   ]
  },
  {
   "cell_type": "code",
   "execution_count": null,
   "metadata": {},
   "outputs": [],
   "source": []
  },
  {
   "cell_type": "code",
   "execution_count": null,
   "metadata": {},
   "outputs": [],
   "source": []
  },
  {
   "cell_type": "code",
   "execution_count": null,
   "metadata": {},
   "outputs": [],
   "source": []
  },
  {
   "cell_type": "markdown",
   "metadata": {},
   "source": [
    "### 5.\n",
    "Realizar una función que permita buscar un alumno por nombre, siendo el nombre completo o parcial, y devuelva una lista con los n alumnos que concuerden con ese nombre junto con todos sus datos, incluido el promedio de sus notas."
   ]
  },
  {
   "cell_type": "code",
   "execution_count": null,
   "metadata": {},
   "outputs": [],
   "source": [
    "alumno.buscar(listado_alumnos, \"cha\")"
   ]
  },
  {
   "cell_type": "code",
   "execution_count": null,
   "metadata": {},
   "outputs": [],
   "source": []
  },
  {
   "cell_type": "code",
   "execution_count": null,
   "metadata": {},
   "outputs": [],
   "source": []
  }
 ],
 "metadata": {
  "kernelspec": {
   "display_name": "Python 3",
   "language": "python",
   "name": "python3"
  },
  "language_info": {
   "codemirror_mode": {
    "name": "ipython",
    "version": 3
   },
   "file_extension": ".py",
   "mimetype": "text/x-python",
   "name": "python",
   "nbconvert_exporter": "python",
   "pygments_lexer": "ipython3",
   "version": "3.8.5"
  }
 },
 "nbformat": 4,
 "nbformat_minor": 4
}
